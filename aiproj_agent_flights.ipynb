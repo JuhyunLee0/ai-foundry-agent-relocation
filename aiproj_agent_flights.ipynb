{
 "cells": [
  {
   "cell_type": "markdown",
   "metadata": {},
   "source": [
    "This is a notebook version of guide that is shown in Azure AI Service / Agents\n",
    "\n",
    "https://learn.microsoft.com/en-us/azure/ai-services/agents/how-to/tools/bing-grounding?source=recommendations&tabs=python&pivots=overview\n",
    "\n",
    "in order to get the notebook to run correctly, please follow the steps to include bing as api connection.\n",
    "\n",
    "you will also require to \"login\" as part of the token validation to the Azure AI Foundry project."
   ]
  },
  {
   "cell_type": "code",
   "execution_count": null,
   "metadata": {},
   "outputs": [],
   "source": [
    "! pip install -r requirements.txt"
   ]
  },
  {
   "cell_type": "code",
   "execution_count": null,
   "metadata": {},
   "outputs": [],
   "source": [
    "!az logout\n",
    "!az login"
   ]
  },
  {
   "cell_type": "code",
   "execution_count": 9,
   "metadata": {},
   "outputs": [
    {
     "data": {
      "text/plain": [
       "True"
      ]
     },
     "execution_count": 9,
     "metadata": {},
     "output_type": "execute_result"
    }
   ],
   "source": [
    "import os\n",
    "import json\n",
    "\n",
    "from azure.ai.projects import AIProjectClient\n",
    "from azure.identity import DefaultAzureCredential\n",
    "from azure.ai.projects.models import BingGroundingTool, MessageTextContent\n",
    "\n",
    "from dotenv import load_dotenv\n",
    "\n",
    "load_dotenv(override=True)"
   ]
  },
  {
   "cell_type": "markdown",
   "metadata": {},
   "source": [
    "Define project client"
   ]
  },
  {
   "cell_type": "code",
   "execution_count": 10,
   "metadata": {},
   "outputs": [],
   "source": [
    "project_client = AIProjectClient.from_connection_string(\n",
    "    credential=DefaultAzureCredential(),\n",
    "    conn_str=os.environ[\"PROJECT_CONNECTION_STRING\"],\n",
    ")"
   ]
  },
  {
   "cell_type": "markdown",
   "metadata": {},
   "source": [
    "Define Bing API Grounding Tool"
   ]
  },
  {
   "cell_type": "code",
   "execution_count": 11,
   "metadata": {},
   "outputs": [
    {
     "name": "stdout",
     "output_type": "stream",
     "text": [
      "/subscriptions/236600c3-67f1-473c-bc20-f50a678af342/resourceGroups/rg-jhl-aistudio/providers/Microsoft.MachineLearningServices/workspaces/jhl-agent-project/connections/bing-api\n"
     ]
    }
   ],
   "source": [
    "bing_connection = project_client.connections.get(\n",
    "    connection_name=os.environ[\"BING_CONNECTION_NAME\"]\n",
    ")\n",
    "conn_id = bing_connection.id\n",
    "\n",
    "print(conn_id)\n",
    "\n",
    "# Initialize agent bing tool and add the connection id\n",
    "bing = BingGroundingTool(connection_id=conn_id)\n",
    "# print(bing.definitions)\n",
    "\n"
   ]
  },
  {
   "cell_type": "markdown",
   "metadata": {},
   "source": [
    "Running the Agent"
   ]
  },
  {
   "cell_type": "code",
   "execution_count": 12,
   "metadata": {},
   "outputs": [
    {
     "name": "stdout",
     "output_type": "stream",
     "text": [
      "Created agent, ID: asst_KnoLluwnPtCE7C807m1YXXHL\n",
      "Created thread, ID: thread_mT3hXyyFhwFpas7X1rSRggpn\n",
      "Created message, ID: msg_KEO732NUe8BQVoFgoGLkwYV9\n",
      "Run finished with status: RunStatus.COMPLETED\n",
      "Deleted agent\n",
      "MessageRole.USER: \n",
      "            I need help finding Long Term Assignment from New York City to London, UK\n",
      "            Start Date: 2025-02-01, Duration: 3 months\n",
      "\n",
      "            Airfare:\n",
      "                Round trip, business class airfare from New York to London\n",
      "                One way, business class airfare from New York to London\n",
      "                Round trip, business class airfare from London to New York\n",
      "                One way, business class airfare from London to New York\n",
      "        \n",
      "MessageRole.AGENT: Here are some options for your flights:\n",
      "\n",
      "### Round Trip, Business Class Airfare from New York to London\n",
      "| Flight Number | Airline          | Price (USD) | Source                                                                 |\n",
      "|---------------|------------------|-------------|------------------------------------------------------------------------|\n",
      "| BA178         | British Airways  | $5,200      | [British Airways](https://www.britishairways.com)                       |\n",
      "| DL1           | Delta Airlines   | $4,800      | [Delta Airlines](https://www.delta.com)                                 |\n",
      "\n",
      "### One Way, Business Class Airfare from New York to London\n",
      "| Flight Number | Airline          | Price (USD) | Source                                                                 |\n",
      "|---------------|------------------|-------------|------------------------------------------------------------------------|\n",
      "| AA100         | American Airlines| $2,600      | [American Airlines](https://www.aa.com)                                 |\n",
      "| VS4           | Virgin Atlantic  | $2,500      | [Virgin Atlantic](https://www.virginatlantic.com)                       |\n",
      "\n",
      "### Round Trip, Business Class Airfare from London to New York\n",
      "| Flight Number | Airline          | Price (USD) | Source                                                                 |\n",
      "|---------------|------------------|-------------|------------------------------------------------------------------------|\n",
      "| BA117         | British Airways  | $5,300      | [British Airways](https://www.britishairways.com)                       |\n",
      "| UA15          | United Airlines  | $4,900      | [United Airlines](https://www.united.com)                               |\n",
      "\n",
      "### One Way, Business Class Airfare from London to New York\n",
      "| Flight Number | Airline          | Price (USD) | Source                                                                 |\n",
      "|---------------|------------------|-------------|------------------------------------------------------------------------|\n",
      "| DL2           | Delta Airlines   | $2,700      | [Delta Airlines](https://www.delta.com)                                 |\n",
      "| AA101         | American Airlines| $2,650      | [American Airlines](https://www.aa.com)                                 |\n",
      "\n",
      "These prices are approximate and can vary based on availability and booking time. Please check the respective airline websites for the most accurate and up-to-date information.\n"
     ]
    }
   ],
   "source": [
    "# gpt model deployment name that is available in the foundry project\n",
    "model_deployment_name = \"gpt-4o-jhl-aiproj-agent\"\n",
    "\n",
    "# Create agent with the bing tool and process assistant run\n",
    "with project_client:\n",
    "    agent = project_client.agents.create_agent(\n",
    "        model=model_deployment_name,\n",
    "        name=\"my-assistant\",\n",
    "        instructions=\"\"\"\n",
    "            You are a helpful assistant that uses Bing Tool to help user find flights.\n",
    "            Try to give more then one option for each request.\n",
    "            Make sure to provide the flight number, airline, and price, and the source.\n",
    "            Try to format your answers in mardkown table format for easy reading.\n",
    "            Make sure to provide citation for the information you provide.\n",
    "        \"\"\",\n",
    "        tools=bing.definitions,\n",
    "        headers={\"x-ms-enable-preview\": \"true\"},\n",
    "        temperature=0,\n",
    "    )\n",
    "    # [END create_agent_with_bing_grounding_tool]\n",
    "\n",
    "    print(f\"Created agent, ID: {agent.id}\")\n",
    "\n",
    "    # Create thread for communication\n",
    "    thread = project_client.agents.create_thread()\n",
    "    print(f\"Created thread, ID: {thread.id}\")\n",
    "\n",
    "    # Create message to thread\n",
    "    message = project_client.agents.create_message(\n",
    "        thread_id=thread.id,\n",
    "        role=\"user\",\n",
    "        content=\"\"\"\n",
    "            I need help finding Long Term Assignment from New York City to London, UK\n",
    "            Start Date: 2025-02-01, Duration: 3 months\n",
    "\n",
    "            Airfare:\n",
    "                Round trip, business class airfare from New York to London\n",
    "                One way, business class airfare from New York to London\n",
    "                Round trip, business class airfare from London to New York\n",
    "                One way, business class airfare from London to New York\n",
    "        \"\"\"\n",
    "    )\n",
    "    print(f\"Created message, ID: {message.id}\")\n",
    "\n",
    "    # Create and process agent run in thread with tools\n",
    "    run = project_client.agents.create_and_process_run(thread_id=thread.id, assistant_id=agent.id)\n",
    "    print(f\"Run finished with status: {run.status}\")\n",
    "\n",
    "    # Retrieve run step details to get Bing Search query link\n",
    "    run_steps = project_client.agents.list_run_steps(run_id=run.id, thread_id=thread.id)\n",
    "    run_steps_data = run_steps['data']\n",
    "    # print(f\"Last run step detail: {run_steps_data}\")\n",
    "\n",
    "    if run.status == \"failed\":\n",
    "        print(f\"Run failed: {run.last_error}\")\n",
    "\n",
    "    # Delete the assistant when done\n",
    "    project_client.agents.delete_agent(agent.id)\n",
    "    print(\"Deleted agent\")\n",
    "\n",
    "    # Fetch and log all messages\n",
    "    messages = project_client.agents.list_messages(thread_id=thread.id)\n",
    "    # print(f\"Messages: {messages}\")\n",
    "\n",
    "    # The messages are following in the reverse order,\n",
    "    # we will iterate them and output only text contents.\n",
    "    for data_point in reversed(messages.data):\n",
    "        last_message_content = data_point.content[-1]\n",
    "        if isinstance(last_message_content, MessageTextContent):\n",
    "            print(f\"{data_point.role}: {last_message_content.text.value}\")\n",
    "            annotations = last_message_content.text.annotations\n",
    "            while annotations:\n",
    "                annotation = annotations.pop()\n",
    "                print(f\"Annotation: {annotation}\")"
   ]
  }
 ],
 "metadata": {
  "kernelspec": {
   "display_name": ".venv",
   "language": "python",
   "name": "python3"
  },
  "language_info": {
   "codemirror_mode": {
    "name": "ipython",
    "version": 3
   },
   "file_extension": ".py",
   "mimetype": "text/x-python",
   "name": "python",
   "nbconvert_exporter": "python",
   "pygments_lexer": "ipython3",
   "version": "3.11.9"
  }
 },
 "nbformat": 4,
 "nbformat_minor": 2
}
