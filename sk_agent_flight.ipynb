{
 "cells": [
  {
   "cell_type": "markdown",
   "metadata": {},
   "source": [
    "https://learn.microsoft.com/en-us/azure/ai-services/agents/how-to/tools/bing-grounding?tabs=python&pivots=code-example"
   ]
  },
  {
   "cell_type": "code",
   "execution_count": null,
   "metadata": {},
   "outputs": [],
   "source": [
    "%pip install -r requirements.txt"
   ]
  },
  {
   "cell_type": "code",
   "execution_count": 3,
   "metadata": {},
   "outputs": [
    {
     "name": "stdout",
     "output_type": "stream",
     "text": [
      "None\n"
     ]
    }
   ],
   "source": [
    "import os\n",
    "from typing import Annotated\n",
    "\n",
    "from semantic_kernel.agents.open_ai import AzureAssistantAgent\n",
    "from semantic_kernel.connectors.ai.open_ai.services.azure_chat_completion import AzureChatCompletion\n",
    "from semantic_kernel.contents.streaming_file_reference_content import StreamingFileReferenceContent\n",
    "from semantic_kernel.contents.chat_message_content import ChatMessageContent\n",
    "from semantic_kernel.contents.utils.author_role import AuthorRole\n",
    "\n",
    "from semantic_kernel.core_plugins.web_search_engine_plugin import WebSearchEnginePlugin\n",
    "\n",
    "from semantic_kernel.connectors.search_engine import BingConnector\n",
    "from semantic_kernel.connectors.ai.function_choice_behavior import FunctionChoiceBehavior\n",
    "\n",
    "from semantic_kernel.kernel import Kernel\n",
    "\n",
    "from dotenv import load_dotenv\n",
    "\n",
    "load_dotenv(override=True)\n",
    "\n",
    "azure_openai_endpoint = os.getenv(\"AZURE_OPENAI_ENDPOINT\")\n",
    "azure_openai_key = os.getenv(\"AZURE_OPENAI_KEY\")\n",
    "azure_openai_chat_model = os.getenv(\"AZURE_OPENAI_DEPLOYMENT_NAME\")\n",
    "\n",
    "bing_search_key = os.getenv(\"BING_SEARCH_SUBSCRIPTION_KEY\")\n",
    "\n",
    "print(azure_openai_chat_model)"
   ]
  },
  {
   "cell_type": "code",
   "execution_count": null,
   "metadata": {},
   "outputs": [
    {
     "name": "stdout",
     "output_type": "stream",
     "text": [
      "Creating thread...\n",
      "# AuthorRole.ASSISTANT - BingAgent: 'Here are some options for your flights:\n",
      "\n",
      "### Round Trip Business Class Airfare from New York to London\n",
      "\n",
      "| Airline            | Flight Number | Price  | Source         |\n",
      "|--------------------|---------------|--------|----------------|\n",
      "| Multiple Airlines  | various       | $2,299 | [Flights.com](https://flights.com) |\n",
      "| Icelandair         | various       | $916   | [Priceline](https://priceline.com) |\n",
      "| TAP                | various       | $1,361 | [Priceline](https://priceline.com) |\n",
      "\n",
      "### One Way Business Class Airfare from New York to London\n",
      "\n",
      "| Airline            | Flight Number | Price  | Source         |\n",
      "|--------------------|---------------|--------|----------------|\n",
      "| Icelandair         | various       | $916   | [Priceline](https://priceline.com) |\n",
      "| KLM                | various       | $1,020 | [Priceline](https://priceline.com) |\n",
      "| TAP                | various       | $1,361 | [Priceline](https://priceline.com) |\n",
      "\n",
      "For booking and more detailed information, please visit the respective websites.\n",
      "\n",
      "*Prices and availability are subject to change.'\n"
     ]
    },
    {
     "ename": "",
     "evalue": "",
     "output_type": "error",
     "traceback": [
      "\u001b[1;31mThe Kernel crashed while executing code in the current cell or a previous cell. \n",
      "\u001b[1;31mPlease review the code in the cell(s) to identify a possible cause of the failure. \n",
      "\u001b[1;31mClick <a href='https://aka.ms/vscodeJupyterKernelCrash'>here</a> for more info. \n",
      "\u001b[1;31mView Jupyter <a href='command:jupyter.viewOutput'>log</a> for further details."
     ]
    }
   ],
   "source": [
    "kernel = Kernel()\n",
    "\n",
    "service_id = \"bing_agent\"\n",
    "\n",
    "# adding openai service to kernel\n",
    "chat_service = AzureChatCompletion(\n",
    "    service_id=service_id,\n",
    "    api_key=azure_openai_key,\n",
    "    endpoint=azure_openai_endpoint,\n",
    "    deployment_name=azure_openai_chat_model,\n",
    ")\n",
    "kernel.add_service(chat_service)\n",
    "\n",
    "connector = BingConnector(api_key=bing_search_key)\n",
    "kernel.add_plugin(WebSearchEnginePlugin(connector), plugin_name=\"WebSearch\")\n",
    "\n",
    "settings = kernel.get_prompt_execution_settings_from_service_id(service_id=service_id)\n",
    "settings.function_choice_behavior = FunctionChoiceBehavior.Auto()\n",
    "\n",
    "# creating code interpreter agent\n",
    "code_agent = await AzureAssistantAgent.create(\n",
    "    kernel=kernel,\n",
    "    service_id=service_id,\n",
    "    api_key=azure_openai_key,\n",
    "    endpoint=azure_openai_endpoint,\n",
    "    deployment_name=azure_openai_chat_model,\n",
    "    name=\"BingAgent\",\n",
    "    instructions=\"\"\"\n",
    "        You are a helpful assistant that uses Bing Tool to help user find flights.\n",
    "        Try to give more then one option for each request.\n",
    "        Make sure to provide the flight number, airline, and price, and the source.\n",
    "        Try to format your answers in mardkown table format for easy reading.\n",
    "        Make sure to provide citation for the information you provide.\n",
    "    \"\"\",\n",
    "    execution_settings=settings,\n",
    "    \n",
    "    # enable_code_interpreter=True\n",
    ")\n",
    "\n",
    "print(\"Creating thread...\")\n",
    "thread_id = await code_agent.create_thread()\n",
    "\n",
    "user_input = \"\"\"\n",
    "    I need help finding Long Term Assignment from New York City to London, UK\n",
    "    Start Date: 2025-02-01, Duration: 3 months\n",
    "\n",
    "    Airfare:\n",
    "        Round trip, business class airfare from New York to London\n",
    "        One way, business class airfare from New York to London\n",
    "\"\"\"\n",
    "\n",
    "await code_agent.add_chat_message(\n",
    "    thread_id=thread_id, message=ChatMessageContent(role=AuthorRole.USER, content=user_input)\n",
    ")\n",
    "\n",
    "async for content in code_agent.invoke(thread_id=thread_id):\n",
    "    print(f\"# {content.role} - {content.name or '*'}: '{content.content}'\")\n"
   ]
  }
 ],
 "metadata": {
  "kernelspec": {
   "display_name": ".venv",
   "language": "python",
   "name": "python3"
  },
  "language_info": {
   "codemirror_mode": {
    "name": "ipython",
    "version": 3
   },
   "file_extension": ".py",
   "mimetype": "text/x-python",
   "name": "python",
   "nbconvert_exporter": "python",
   "pygments_lexer": "ipython3",
   "version": "3.11.9"
  }
 },
 "nbformat": 4,
 "nbformat_minor": 2
}
